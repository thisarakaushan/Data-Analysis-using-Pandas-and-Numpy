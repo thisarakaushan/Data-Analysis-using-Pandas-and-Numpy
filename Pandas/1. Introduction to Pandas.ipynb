{
 "cells": [
  {
   "cell_type": "markdown",
   "metadata": {
    "collapsed": true
   },
   "source": [
    "# Introduction to Pandas\n",
    "\n",
    "In this section of the course we will learn how to use pandas for data analysis. You can think of pandas as an extremely powerful version of Excel, with a lot more features. In this section of the course, you should go through the notebooks in this order:\n",
    "\n",
    "* Introduction to Pandas\n",
    "* Series [click](https://github.com/thisarakaushan/Data-Analysis-using-Pandas-and-Numpy/blob/main/Pandas/2.%20Series.ipynb)\n",
    "* DataFrames [click](https://github.com/thisarakaushan/Data-Analysis-using-Pandas-and-Numpy/blob/main/Pandas/3.%20DataFrames.ipynb)\n",
    "* Missing Data [click](https://github.com/thisarakaushan/Data-Analysis-using-Pandas-and-Numpy/blob/main/Pandas/4.%20Missing%20Data.ipynb)\n",
    "* GroupBy [click](https://github.com/thisarakaushan/Data-Analysis-using-Pandas-and-Numpy/blob/main/Pandas/5.%20Groupby.ipynb)\n",
    "* Merging,Joining,and Concatenating [click](https://github.com/thisarakaushan/Data-Analysis-using-Pandas-and-Numpy/blob/main/Pandas/6.%20Merging%2C%20Joining%2C%20and%20Concatenating.ipynb)\n",
    "* Operations [click](https://github.com/thisarakaushan/Data-Analysis-using-Pandas-and-Numpy/blob/main/Pandas/7.%20Operations.ipynb)\n",
    "* Data Input and Output [click](https://github.com/thisarakaushan/Data-Analysis-using-Pandas-and-Numpy/blob/main/Pandas/8.%20Data%20Input%20and%20Output.ipynb)"
   ]
  },
  {
   "cell_type": "markdown",
   "metadata": {},
   "source": [
    "___"
   ]
  }
 ],
 "metadata": {
  "kernelspec": {
   "display_name": "Python 3 (ipykernel)",
   "language": "python",
   "name": "python3"
  },
  "language_info": {
   "codemirror_mode": {
    "name": "ipython",
    "version": 3
   },
   "file_extension": ".py",
   "mimetype": "text/x-python",
   "name": "python",
   "nbconvert_exporter": "python",
   "pygments_lexer": "ipython3",
   "version": "3.9.13"
  }
 },
 "nbformat": 4,
 "nbformat_minor": 1
}
